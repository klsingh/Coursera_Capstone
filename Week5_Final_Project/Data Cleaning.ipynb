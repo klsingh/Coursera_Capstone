{
 "cells": [
  {
   "cell_type": "code",
   "execution_count": 32,
   "metadata": {},
   "outputs": [],
   "source": [
    "import os\n",
    "os.chdir(r'C:\\Users\\Klsingh\\Desktop\\capstone project final')"
   ]
  },
  {
   "cell_type": "code",
   "execution_count": 33,
   "metadata": {},
   "outputs": [
    {
     "name": "stdout",
     "output_type": "stream",
     "text": [
      "Collecting package metadata (current_repodata.json): ...working... done\n",
      "Solving environment: ...working... done\n",
      "\n",
      "# All requested packages already installed.\n",
      "\n"
     ]
    }
   ],
   "source": [
    "import pandas as pd\n",
    "import numpy as np\n",
    "import sys\n",
    "!conda install --yes --prefix {sys.prefix} numpy"
   ]
  },
  {
   "cell_type": "code",
   "execution_count": 34,
   "metadata": {},
   "outputs": [
    {
     "name": "stdout",
     "output_type": "stream",
     "text": [
      "zomato_res.csv\n"
     ]
    }
   ],
   "source": [
    "neighborhoods = os.listdir()\n",
    "for x in neighborhoods:\n",
    "    types_rest = os.listdir(x)\n",
    "    for rest in types_rest:\n",
    "        if('meta' not in rest.lower()):\n",
    "            df = pd.read_csv(r'' + x + '\\\\' + rest, encoding = 'ISO-8859-1', engine = 'python')\n",
    "            if(df.shape[1]!=15):\n",
    "                print(rest)"
   ]
  },
  {
   "cell_type": "code",
   "execution_count": 35,
   "metadata": {},
   "outputs": [
    {
     "data": {
      "text/html": [
       "<div>\n",
       "<style scoped>\n",
       "    .dataframe tbody tr th:only-of-type {\n",
       "        vertical-align: middle;\n",
       "    }\n",
       "\n",
       "    .dataframe tbody tr th {\n",
       "        vertical-align: top;\n",
       "    }\n",
       "\n",
       "    .dataframe thead th {\n",
       "        text-align: right;\n",
       "    }\n",
       "</style>\n",
       "<table border=\"1\" class=\"dataframe\">\n",
       "  <thead>\n",
       "    <tr style=\"text-align: right;\">\n",
       "      <th></th>\n",
       "      <th>Cost_for_two</th>\n",
       "      <th>Cuisines</th>\n",
       "      <th>Features</th>\n",
       "      <th>Home_Delivery</th>\n",
       "      <th>Operational_hours</th>\n",
       "      <th>Restaurant_Location</th>\n",
       "      <th>Restaurant_Name</th>\n",
       "      <th>Restaurant_Type</th>\n",
       "      <th>View_Menu</th>\n",
       "      <th>Rating</th>\n",
       "      <th>Votes</th>\n",
       "      <th>Rating_Category</th>\n",
       "      <th>Operational_after_Midnight</th>\n",
       "      <th>Cuisine_count</th>\n",
       "      <th>Competitors_in_Location</th>\n",
       "      <th>Score</th>\n",
       "    </tr>\n",
       "  </thead>\n",
       "  <tbody>\n",
       "  </tbody>\n",
       "</table>\n",
       "</div>"
      ],
      "text/plain": [
       "Empty DataFrame\n",
       "Columns: [Cost_for_two, Cuisines, Features, Home_Delivery, Operational_hours, Restaurant_Location, Restaurant_Name, Restaurant_Type, View_Menu, Rating, Votes, Rating_Category, Operational_after_Midnight, Cuisine_count, Competitors_in_Location, Score]\n",
       "Index: []"
      ]
     },
     "execution_count": 35,
     "metadata": {},
     "output_type": "execute_result"
    }
   ],
   "source": [
    "# Joining all the dataset since the dataset for each neighborhood and each category was scraped separately\n",
    "listed_in = {'buffet': 'buffet_restaurants',\n",
    "             'cafe': 'cafe_restaurants',\n",
    "             'delivery': 'delivery_restaurants',\n",
    "             'desserts': 'desserts&bakes',\n",
    "             'dine': 'dineout_restaurants',\n",
    "             'nightlife': 'drinks&nightlife',\n",
    "             'pubs': 'pubs&bars'}\n",
    "column_names = ['Cost_for_two', 'Cuisines', 'Features','Home_Delivery', 'Operational_hours', 'Restaurant_Location', 'Restaurant_Name', 'Restaurant_Type', 'View_Menu', 'Rating', 'Votes',\n",
    "                              'Rating_Category', 'Operational_after_Midnight', 'Cuisine_count', 'Competitors_in_Location','Score'] \n",
    "\n",
    "# instantiate the dataframe\n",
    "main_frame = pd.DataFrame(columns=column_names)\n",
    "main_frame"
   ]
  },
  {
   "cell_type": "code",
   "execution_count": 36,
   "metadata": {},
   "outputs": [],
   "source": [
    "neighborhoods = os.listdir()\n",
    "for x in neighborhoods:\n",
    "    types_rest = os.listdir(x)\n",
    "    for rest in types_rest:\n",
    "        if('meta' not in rest.lower()):\n",
    "            df = pd.read_csv(r'' + x + '\\\\' + rest, encoding = 'ISO-8859-1', engine = 'python')\n",
    "            for key, value in listed_in.items():\n",
    "                if key in rest:\n",
    "                    df['Listed_in(type)'] = listed_in[key]\n",
    "                    df['Listed_in(city)'] = x\n",
    "                    # print(listed_in[key], rest, x)\n",
    "                    \n",
    "            #concat dataframes\n",
    "            main_frame = pd.concat([main_frame, df], ignore_index=True)"
   ]
  },
  {
   "cell_type": "code",
   "execution_count": 37,
   "metadata": {},
   "outputs": [
    {
     "data": {
      "text/plain": [
       "(6526, 16)"
      ]
     },
     "execution_count": 37,
     "metadata": {},
     "output_type": "execute_result"
    }
   ],
   "source": [
    "# Lets check the total number of restaurants in Mumbai\n",
    "main_frame.shape"
   ]
  },
  {
   "cell_type": "code",
   "execution_count": 38,
   "metadata": {},
   "outputs": [
    {
     "data": {
      "text/html": [
       "<div>\n",
       "<style scoped>\n",
       "    .dataframe tbody tr th:only-of-type {\n",
       "        vertical-align: middle;\n",
       "    }\n",
       "\n",
       "    .dataframe tbody tr th {\n",
       "        vertical-align: top;\n",
       "    }\n",
       "\n",
       "    .dataframe thead th {\n",
       "        text-align: right;\n",
       "    }\n",
       "</style>\n",
       "<table border=\"1\" class=\"dataframe\">\n",
       "  <thead>\n",
       "    <tr style=\"text-align: right;\">\n",
       "      <th></th>\n",
       "      <th>Cost_for_two</th>\n",
       "      <th>Cuisines</th>\n",
       "      <th>Features</th>\n",
       "      <th>Home_Delivery</th>\n",
       "      <th>Operational_hours</th>\n",
       "      <th>Restaurant_Location</th>\n",
       "      <th>Restaurant_Name</th>\n",
       "      <th>Restaurant_Type</th>\n",
       "      <th>View_Menu</th>\n",
       "      <th>Rating</th>\n",
       "      <th>Votes</th>\n",
       "      <th>Rating_Category</th>\n",
       "      <th>Operational_after_Midnight</th>\n",
       "      <th>Cuisine_count</th>\n",
       "      <th>Competitors_in_Location</th>\n",
       "      <th>Score</th>\n",
       "    </tr>\n",
       "  </thead>\n",
       "  <tbody>\n",
       "    <tr>\n",
       "      <th>0</th>\n",
       "      <td>1500</td>\n",
       "      <td>Finger Food, Continental, European, Italian</td>\n",
       "      <td>Food Hygiene Rated Restaurants In Mumbai, Best...</td>\n",
       "      <td>False</td>\n",
       "      <td>12noon â 1am (Mon-Sun)</td>\n",
       "      <td>Kamala Mills Compound</td>\n",
       "      <td>Lord of the Drinks</td>\n",
       "      <td>Lounge,Casual Dining</td>\n",
       "      <td>True</td>\n",
       "      <td>4.9</td>\n",
       "      <td>1326</td>\n",
       "      <td>Excellent</td>\n",
       "      <td>True</td>\n",
       "      <td>4</td>\n",
       "      <td>19.0</td>\n",
       "      <td>48.000806</td>\n",
       "    </tr>\n",
       "    <tr>\n",
       "      <th>1</th>\n",
       "      <td>800</td>\n",
       "      <td>Pizza</td>\n",
       "      <td>Value For Money, Best of Mumbai</td>\n",
       "      <td>False</td>\n",
       "      <td>11am â 12:30AM (Mon-Sun)</td>\n",
       "      <td>Malad West</td>\n",
       "      <td>Joey's Pizza</td>\n",
       "      <td>Quick Bites</td>\n",
       "      <td>True</td>\n",
       "      <td>4.6</td>\n",
       "      <td>5974</td>\n",
       "      <td>Excellent</td>\n",
       "      <td>True</td>\n",
       "      <td>1</td>\n",
       "      <td>209.0</td>\n",
       "      <td>71.950295</td>\n",
       "    </tr>\n",
       "    <tr>\n",
       "      <th>2</th>\n",
       "      <td>2500</td>\n",
       "      <td>Seafood</td>\n",
       "      <td>Super Seafood, Best of Mumbai</td>\n",
       "      <td>False</td>\n",
       "      <td>Closed (Mon),12noon â 3pm, 7pm â 12midnigh...</td>\n",
       "      <td>Bandra West</td>\n",
       "      <td>Bastian</td>\n",
       "      <td>Casual Dining,Bar</td>\n",
       "      <td>True</td>\n",
       "      <td>4.5</td>\n",
       "      <td>1438</td>\n",
       "      <td>Excellent</td>\n",
       "      <td>False</td>\n",
       "      <td>1</td>\n",
       "      <td>241.0</td>\n",
       "      <td>43.160370</td>\n",
       "    </tr>\n",
       "    <tr>\n",
       "      <th>3</th>\n",
       "      <td>1800</td>\n",
       "      <td>Finger Food, Continental</td>\n",
       "      <td>Where's The Party?, Best of Mumbai, Food Hygie...</td>\n",
       "      <td>False</td>\n",
       "      <td>12noon â 1am (Mon-Sun)</td>\n",
       "      <td>Lower Parel</td>\n",
       "      <td>Tamasha</td>\n",
       "      <td>Lounge,Bar</td>\n",
       "      <td>True</td>\n",
       "      <td>4.9</td>\n",
       "      <td>3275</td>\n",
       "      <td>Excellent</td>\n",
       "      <td>True</td>\n",
       "      <td>2</td>\n",
       "      <td>125.0</td>\n",
       "      <td>59.778427</td>\n",
       "    </tr>\n",
       "    <tr>\n",
       "      <th>4</th>\n",
       "      <td>450</td>\n",
       "      <td>North Indian, Street Food, Fast Food, Chinese</td>\n",
       "      <td>NaN</td>\n",
       "      <td>True</td>\n",
       "      <td>12noon â 4pm, 7pm â 11:45pm (Mon-Sun)</td>\n",
       "      <td>Vashi</td>\n",
       "      <td>Bhagat Tarachand</td>\n",
       "      <td>Casual Dining</td>\n",
       "      <td>True</td>\n",
       "      <td>4.1</td>\n",
       "      <td>1422</td>\n",
       "      <td>Very Good</td>\n",
       "      <td>False</td>\n",
       "      <td>4</td>\n",
       "      <td>116.0</td>\n",
       "      <td>37.546442</td>\n",
       "    </tr>\n",
       "  </tbody>\n",
       "</table>\n",
       "</div>"
      ],
      "text/plain": [
       "  Cost_for_two                                       Cuisines  \\\n",
       "0         1500    Finger Food, Continental, European, Italian   \n",
       "1          800                                          Pizza   \n",
       "2         2500                                        Seafood   \n",
       "3         1800                       Finger Food, Continental   \n",
       "4          450  North Indian, Street Food, Fast Food, Chinese   \n",
       "\n",
       "                                            Features Home_Delivery  \\\n",
       "0  Food Hygiene Rated Restaurants In Mumbai, Best...         False   \n",
       "1                    Value For Money, Best of Mumbai         False   \n",
       "2                      Super Seafood, Best of Mumbai         False   \n",
       "3  Where's The Party?, Best of Mumbai, Food Hygie...         False   \n",
       "4                                                NaN          True   \n",
       "\n",
       "                                   Operational_hours    Restaurant_Location  \\\n",
       "0                           12noon â 1am (Mon-Sun)  Kamala Mills Compound   \n",
       "1                         11am â 12:30AM (Mon-Sun)             Malad West   \n",
       "2  Closed (Mon),12noon â 3pm, 7pm â 12midnigh...            Bandra West   \n",
       "3                           12noon â 1am (Mon-Sun)            Lower Parel   \n",
       "4          12noon â 4pm, 7pm â 11:45pm (Mon-Sun)                  Vashi   \n",
       "\n",
       "      Restaurant_Name       Restaurant_Type View_Menu  Rating Votes  \\\n",
       "0  Lord of the Drinks  Lounge,Casual Dining      True     4.9  1326   \n",
       "1        Joey's Pizza           Quick Bites      True     4.6  5974   \n",
       "2             Bastian     Casual Dining,Bar      True     4.5  1438   \n",
       "3             Tamasha            Lounge,Bar      True     4.9  3275   \n",
       "4    Bhagat Tarachand         Casual Dining      True     4.1  1422   \n",
       "\n",
       "  Rating_Category Operational_after_Midnight Cuisine_count  \\\n",
       "0       Excellent                       True             4   \n",
       "1       Excellent                       True             1   \n",
       "2       Excellent                      False             1   \n",
       "3       Excellent                       True             2   \n",
       "4       Very Good                      False             4   \n",
       "\n",
       "   Competitors_in_Location      Score  \n",
       "0                     19.0  48.000806  \n",
       "1                    209.0  71.950295  \n",
       "2                    241.0  43.160370  \n",
       "3                    125.0  59.778427  \n",
       "4                    116.0  37.546442  "
      ]
     },
     "execution_count": 38,
     "metadata": {},
     "output_type": "execute_result"
    }
   ],
   "source": [
    "main_frame.head()"
   ]
  },
  {
   "cell_type": "code",
   "execution_count": 39,
   "metadata": {},
   "outputs": [],
   "source": [
    "# We can say that the Cost_for_two of each restaurant in the dataset is our primary key\n",
    "# So dropping all the data that are duplicate based on Cost_for_two column\n",
    "main_frame = main_frame.drop_duplicates('Cost_for_two')"
   ]
  },
  {
   "cell_type": "code",
   "execution_count": 40,
   "metadata": {},
   "outputs": [
    {
     "data": {
      "text/plain": [
       "(75, 16)"
      ]
     },
     "execution_count": 40,
     "metadata": {},
     "output_type": "execute_result"
    }
   ],
   "source": [
    "main_frame.shape"
   ]
  },
  {
   "cell_type": "markdown",
   "metadata": {},
   "source": [
    "## Cleaning the data column wise"
   ]
  },
  {
   "cell_type": "markdown",
   "metadata": {},
   "source": [
    "### Lets one by one check for each column, if there is any noise in the data and clean parallely if any"
   ]
  },
  {
   "cell_type": "markdown",
   "metadata": {},
   "source": [
    "#### Cost_for_two column"
   ]
  },
  {
   "cell_type": "code",
   "execution_count": 41,
   "metadata": {},
   "outputs": [
    {
     "data": {
      "text/plain": [
       "0"
      ]
     },
     "execution_count": 41,
     "metadata": {},
     "output_type": "execute_result"
    }
   ],
   "source": [
    "main_frame['Cost_for_two'].isnull().sum()"
   ]
  },
  {
   "cell_type": "markdown",
   "metadata": {},
   "source": [
    "#### Cuisines column"
   ]
  },
  {
   "cell_type": "code",
   "execution_count": 42,
   "metadata": {},
   "outputs": [
    {
     "data": {
      "text/plain": [
       "0"
      ]
     },
     "execution_count": 42,
     "metadata": {},
     "output_type": "execute_result"
    }
   ],
   "source": [
    "main_frame['Cuisines'].isnull().sum()"
   ]
  },
  {
   "cell_type": "markdown",
   "metadata": {},
   "source": [
    "#### Features column"
   ]
  },
  {
   "cell_type": "code",
   "execution_count": 43,
   "metadata": {},
   "outputs": [
    {
     "name": "stdout",
     "output_type": "stream",
     "text": [
      "NULL values :  31\n",
      "Blank :  0\n"
     ]
    }
   ],
   "source": [
    "print(\"NULL values : \",main_frame['Features'].isnull().sum())\n",
    "print(\"Blank : \", (main_frame['Features']==\"\").sum())"
   ]
  },
  {
   "cell_type": "markdown",
   "metadata": {},
   "source": [
    "##### There are 31 NULL values, lets drop them"
   ]
  },
  {
   "cell_type": "code",
   "execution_count": 44,
   "metadata": {},
   "outputs": [
    {
     "name": "stdout",
     "output_type": "stream",
     "text": [
      "NULL values :  0\n"
     ]
    }
   ],
   "source": [
    "main_frame['Features'].replace(np.nan, '', regex=True, inplace=True)\n",
    "print(\"NULL values : \",main_frame['Features'].isnull().sum())"
   ]
  },
  {
   "cell_type": "markdown",
   "metadata": {},
   "source": [
    "#### Home_Delivery column"
   ]
  },
  {
   "cell_type": "code",
   "execution_count": 45,
   "metadata": {},
   "outputs": [
    {
     "data": {
      "text/plain": [
       "array([False, True], dtype=object)"
      ]
     },
     "execution_count": 45,
     "metadata": {},
     "output_type": "execute_result"
    }
   ],
   "source": [
    "main_frame['Home_Delivery'].unique()"
   ]
  },
  {
   "cell_type": "markdown",
   "metadata": {},
   "source": [
    "#### Operational_hours column"
   ]
  },
  {
   "cell_type": "code",
   "execution_count": 46,
   "metadata": {},
   "outputs": [
    {
     "name": "stdout",
     "output_type": "stream",
     "text": [
      "NULL values :  0\n",
      "Blank :  0\n"
     ]
    }
   ],
   "source": [
    "print(\"NULL values : \",main_frame['Operational_hours'].isnull().sum())\n",
    "print(\"Blank : \", (main_frame['Operational_hours']==\"\").sum())"
   ]
  },
  {
   "cell_type": "markdown",
   "metadata": {},
   "source": [
    "#### Restaurant_Location column"
   ]
  },
  {
   "cell_type": "code",
   "execution_count": 47,
   "metadata": {},
   "outputs": [
    {
     "name": "stdout",
     "output_type": "stream",
     "text": [
      "NULL values :  0\n",
      "Blank :  0\n"
     ]
    }
   ],
   "source": [
    "print(\"NULL values : \",main_frame['Restaurant_Location'].isnull().sum())\n",
    "print(\"Blank : \", (main_frame['Restaurant_Location']==\"\").sum())"
   ]
  },
  {
   "cell_type": "code",
   "execution_count": 48,
   "metadata": {},
   "outputs": [
    {
     "data": {
      "text/plain": [
       "array(['Kamala Mills Compound', 'Malad West', 'Bandra West',\n",
       "       'Lower Parel', 'Vashi', 'Bandra Kurla Complex', 'Juhu',\n",
       "       'Cuffe Parade', 'Andheri West', 'Mahakali', 'Dadar East', 'Khar',\n",
       "       'Marol', 'Kandivali West', 'Sion', 'Worli', 'Chowpatty',\n",
       "       'Goregaon West', 'Borivali West', 'Powai', 'Charni Road',\n",
       "       'Sakinaka', 'Matunga East', 'Colaba', 'Ghatkopar West',\n",
       "       'Mahalaxmi', 'Vile Parle East', 'Grant Road', 'Vikhroli',\n",
       "       'Santacruz East', 'Virar', 'Dombivali East', 'Thane West',\n",
       "       'Kalyan', 'Mulund East'], dtype=object)"
      ]
     },
     "execution_count": 48,
     "metadata": {},
     "output_type": "execute_result"
    }
   ],
   "source": [
    "main_frame['Restaurant_Location'].unique()"
   ]
  },
  {
   "cell_type": "markdown",
   "metadata": {},
   "source": [
    "#### Restaurant_Name column"
   ]
  },
  {
   "cell_type": "code",
   "execution_count": 49,
   "metadata": {},
   "outputs": [
    {
     "name": "stdout",
     "output_type": "stream",
     "text": [
      "NULL values :  0\n",
      "Blank :  0\n"
     ]
    }
   ],
   "source": [
    "print(\"NULL values : \",main_frame['Restaurant_Name'].isnull().sum())\n",
    "print(\"Blank : \", (main_frame['Restaurant_Name']==\"\").sum())"
   ]
  },
  {
   "cell_type": "markdown",
   "metadata": {},
   "source": [
    "#### Restaurant_Type column"
   ]
  },
  {
   "cell_type": "code",
   "execution_count": 50,
   "metadata": {},
   "outputs": [
    {
     "name": "stdout",
     "output_type": "stream",
     "text": [
      "NULL values :  3\n",
      "Blank :  0\n"
     ]
    }
   ],
   "source": [
    "print(\"NULL values : \",main_frame['Restaurant_Type'].isnull().sum())\n",
    "print(\"Blank : \", (main_frame['Restaurant_Type']==\"\").sum())"
   ]
  },
  {
   "cell_type": "markdown",
   "metadata": {},
   "source": [
    "###### There are 3 NULL values, lets drop them"
   ]
  },
  {
   "cell_type": "code",
   "execution_count": 51,
   "metadata": {},
   "outputs": [
    {
     "name": "stdout",
     "output_type": "stream",
     "text": [
      "NULL values :  0\n"
     ]
    }
   ],
   "source": [
    "main_frame['Restaurant_Type'].replace(np.nan, '', regex=True, inplace=True)\n",
    "print(\"NULL values : \",main_frame['Restaurant_Type'].isnull().sum())"
   ]
  },
  {
   "cell_type": "code",
   "execution_count": 52,
   "metadata": {},
   "outputs": [
    {
     "data": {
      "text/html": [
       "<div>\n",
       "<style scoped>\n",
       "    .dataframe tbody tr th:only-of-type {\n",
       "        vertical-align: middle;\n",
       "    }\n",
       "\n",
       "    .dataframe tbody tr th {\n",
       "        vertical-align: top;\n",
       "    }\n",
       "\n",
       "    .dataframe thead th {\n",
       "        text-align: right;\n",
       "    }\n",
       "</style>\n",
       "<table border=\"1\" class=\"dataframe\">\n",
       "  <thead>\n",
       "    <tr style=\"text-align: right;\">\n",
       "      <th></th>\n",
       "      <th>Cost_for_two</th>\n",
       "      <th>Cuisines</th>\n",
       "      <th>Features</th>\n",
       "      <th>Home_Delivery</th>\n",
       "      <th>Operational_hours</th>\n",
       "      <th>Restaurant_Location</th>\n",
       "      <th>Restaurant_Name</th>\n",
       "      <th>Restaurant_Type</th>\n",
       "      <th>View_Menu</th>\n",
       "      <th>Rating</th>\n",
       "      <th>Votes</th>\n",
       "      <th>Rating_Category</th>\n",
       "      <th>Operational_after_Midnight</th>\n",
       "      <th>Cuisine_count</th>\n",
       "      <th>Competitors_in_Location</th>\n",
       "      <th>Score</th>\n",
       "    </tr>\n",
       "  </thead>\n",
       "  <tbody>\n",
       "  </tbody>\n",
       "</table>\n",
       "</div>"
      ],
      "text/plain": [
       "Empty DataFrame\n",
       "Columns: [Cost_for_two, Cuisines, Features, Home_Delivery, Operational_hours, Restaurant_Location, Restaurant_Name, Restaurant_Type, View_Menu, Rating, Votes, Rating_Category, Operational_after_Midnight, Cuisine_count, Competitors_in_Location, Score]\n",
       "Index: []"
      ]
     },
     "execution_count": 52,
     "metadata": {},
     "output_type": "execute_result"
    }
   ],
   "source": [
    "main_frame[main_frame['Restaurant_Type'].isnull()].head()"
   ]
  },
  {
   "cell_type": "code",
   "execution_count": 61,
   "metadata": {},
   "outputs": [
    {
     "data": {
      "text/plain": [
       "array(['Lounge,Casual Dining', 'Quick Bites', 'Casual Dining,Bar',\n",
       "       'Lounge,Bar', 'Casual Dining', 'Fine Dining', 'CafÃ©', '',\n",
       "       'Bar,Casual Dining', 'Bar,Lounge', 'Bar', 'Club', 'Dessert Parlor',\n",
       "       'Lounge', 'Quick Bites,Dessert Parlor', 'Pub,Casual Dining',\n",
       "       'Casual Dining,Pub', 'Dhaba', 'Bakery', 'Kiosk'], dtype=object)"
      ]
     },
     "execution_count": 61,
     "metadata": {},
     "output_type": "execute_result"
    }
   ],
   "source": [
    "main_frame['Restaurant_Type'].unique()"
   ]
  },
  {
   "cell_type": "markdown",
   "metadata": {},
   "source": [
    "#### View_Menu column"
   ]
  },
  {
   "cell_type": "code",
   "execution_count": 62,
   "metadata": {},
   "outputs": [
    {
     "data": {
      "text/plain": [
       "array([True], dtype=object)"
      ]
     },
     "execution_count": 62,
     "metadata": {},
     "output_type": "execute_result"
    }
   ],
   "source": [
    "main_frame['View_Menu'].unique()"
   ]
  },
  {
   "cell_type": "markdown",
   "metadata": {},
   "source": [
    "#### Rating column"
   ]
  },
  {
   "cell_type": "code",
   "execution_count": 63,
   "metadata": {},
   "outputs": [
    {
     "data": {
      "text/plain": [
       "array([4.9, 4.6, 4.5, 4.1, 4.8, 4.7, 4.4, 3.9, 4. , 4.2, 3.8, 4.3, 3.7,\n",
       "       3.5, 3.6, 3.2, 3.4, 3.3])"
      ]
     },
     "execution_count": 63,
     "metadata": {},
     "output_type": "execute_result"
    }
   ],
   "source": [
    "main_frame['Rating'].unique()"
   ]
  },
  {
   "cell_type": "code",
   "execution_count": 64,
   "metadata": {},
   "outputs": [
    {
     "name": "stdout",
     "output_type": "stream",
     "text": [
      "NULL values :  0\n",
      "Blank :  0\n"
     ]
    },
    {
     "name": "stderr",
     "output_type": "stream",
     "text": [
      "C:\\Users\\Klsingh\\Anaconda3\\lib\\site-packages\\pandas\\core\\ops\\array_ops.py:253: FutureWarning: elementwise comparison failed; returning scalar instead, but in the future will perform elementwise comparison\n",
      "  res_values = method(rvalues)\n"
     ]
    }
   ],
   "source": [
    "print(\"NULL values : \",main_frame['Rating'].isnull().sum())\n",
    "print(\"Blank : \", (main_frame['Rating']==\"\").sum())"
   ]
  },
  {
   "cell_type": "markdown",
   "metadata": {},
   "source": [
    "#### Votes column"
   ]
  },
  {
   "cell_type": "code",
   "execution_count": 65,
   "metadata": {},
   "outputs": [
    {
     "data": {
      "text/plain": [
       "dtype('O')"
      ]
     },
     "execution_count": 65,
     "metadata": {},
     "output_type": "execute_result"
    }
   ],
   "source": [
    "main_frame['Votes'].dtype"
   ]
  },
  {
   "cell_type": "code",
   "execution_count": 66,
   "metadata": {},
   "outputs": [
    {
     "data": {
      "text/plain": [
       "0"
      ]
     },
     "execution_count": 66,
     "metadata": {},
     "output_type": "execute_result"
    }
   ],
   "source": [
    "main_frame['Votes'].isnull().sum()"
   ]
  },
  {
   "cell_type": "code",
   "execution_count": 67,
   "metadata": {},
   "outputs": [
    {
     "data": {
      "text/html": [
       "<div>\n",
       "<style scoped>\n",
       "    .dataframe tbody tr th:only-of-type {\n",
       "        vertical-align: middle;\n",
       "    }\n",
       "\n",
       "    .dataframe tbody tr th {\n",
       "        vertical-align: top;\n",
       "    }\n",
       "\n",
       "    .dataframe thead th {\n",
       "        text-align: right;\n",
       "    }\n",
       "</style>\n",
       "<table border=\"1\" class=\"dataframe\">\n",
       "  <thead>\n",
       "    <tr style=\"text-align: right;\">\n",
       "      <th></th>\n",
       "      <th>Cost_for_two</th>\n",
       "      <th>Cuisines</th>\n",
       "      <th>Features</th>\n",
       "      <th>Home_Delivery</th>\n",
       "      <th>Operational_hours</th>\n",
       "      <th>Restaurant_Location</th>\n",
       "      <th>Restaurant_Name</th>\n",
       "      <th>Restaurant_Type</th>\n",
       "      <th>View_Menu</th>\n",
       "      <th>Rating</th>\n",
       "      <th>Votes</th>\n",
       "      <th>Rating_Category</th>\n",
       "      <th>Operational_after_Midnight</th>\n",
       "      <th>Cuisine_count</th>\n",
       "      <th>Competitors_in_Location</th>\n",
       "      <th>Score</th>\n",
       "    </tr>\n",
       "  </thead>\n",
       "  <tbody>\n",
       "  </tbody>\n",
       "</table>\n",
       "</div>"
      ],
      "text/plain": [
       "Empty DataFrame\n",
       "Columns: [Cost_for_two, Cuisines, Features, Home_Delivery, Operational_hours, Restaurant_Location, Restaurant_Name, Restaurant_Type, View_Menu, Rating, Votes, Rating_Category, Operational_after_Midnight, Cuisine_count, Competitors_in_Location, Score]\n",
       "Index: []"
      ]
     },
     "execution_count": 67,
     "metadata": {},
     "output_type": "execute_result"
    }
   ],
   "source": [
    "main_frame[main_frame['Votes'].isnull()]"
   ]
  },
  {
   "cell_type": "markdown",
   "metadata": {},
   "source": [
    "#### Rating_Category column"
   ]
  },
  {
   "cell_type": "code",
   "execution_count": 68,
   "metadata": {},
   "outputs": [
    {
     "data": {
      "text/plain": [
       "array(['Excellent', 'Very Good', 'Good', 'Average'], dtype=object)"
      ]
     },
     "execution_count": 68,
     "metadata": {},
     "output_type": "execute_result"
    }
   ],
   "source": [
    "main_frame['Rating_Category'].unique()"
   ]
  },
  {
   "cell_type": "markdown",
   "metadata": {},
   "source": [
    "#### Operational_after_Midnight column"
   ]
  },
  {
   "cell_type": "code",
   "execution_count": 69,
   "metadata": {},
   "outputs": [
    {
     "data": {
      "text/plain": [
       "array([True, False], dtype=object)"
      ]
     },
     "execution_count": 69,
     "metadata": {},
     "output_type": "execute_result"
    }
   ],
   "source": [
    "main_frame['Operational_after_Midnight'].unique()"
   ]
  },
  {
   "cell_type": "markdown",
   "metadata": {},
   "source": [
    "#### Cuisine_count column"
   ]
  },
  {
   "cell_type": "code",
   "execution_count": 70,
   "metadata": {},
   "outputs": [
    {
     "data": {
      "text/plain": [
       "0"
      ]
     },
     "execution_count": 70,
     "metadata": {},
     "output_type": "execute_result"
    }
   ],
   "source": [
    "main_frame['Cuisine_count'].isnull().sum()"
   ]
  },
  {
   "cell_type": "markdown",
   "metadata": {},
   "source": [
    "#### Competitors_in_Location column"
   ]
  },
  {
   "cell_type": "code",
   "execution_count": 71,
   "metadata": {},
   "outputs": [
    {
     "data": {
      "text/plain": [
       "0"
      ]
     },
     "execution_count": 71,
     "metadata": {},
     "output_type": "execute_result"
    }
   ],
   "source": [
    "main_frame['Competitors_in_Location'].isnull().sum()"
   ]
  },
  {
   "cell_type": "markdown",
   "metadata": {},
   "source": [
    "#### Score column"
   ]
  },
  {
   "cell_type": "code",
   "execution_count": 72,
   "metadata": {},
   "outputs": [
    {
     "data": {
      "text/plain": [
       "0"
      ]
     },
     "execution_count": 72,
     "metadata": {},
     "output_type": "execute_result"
    }
   ],
   "source": [
    "main_frame['Score'].isnull().sum()"
   ]
  },
  {
   "cell_type": "code",
   "execution_count": 73,
   "metadata": {},
   "outputs": [
    {
     "data": {
      "text/plain": [
       "Cost_for_two                   object\n",
       "Cuisines                       object\n",
       "Features                       object\n",
       "Home_Delivery                  object\n",
       "Operational_hours              object\n",
       "Restaurant_Location            object\n",
       "Restaurant_Name                object\n",
       "Restaurant_Type                object\n",
       "View_Menu                      object\n",
       "Rating                        float64\n",
       "Votes                          object\n",
       "Rating_Category                object\n",
       "Operational_after_Midnight     object\n",
       "Cuisine_count                  object\n",
       "Competitors_in_Location       float64\n",
       "Score                         float64\n",
       "dtype: object"
      ]
     },
     "execution_count": 73,
     "metadata": {},
     "output_type": "execute_result"
    }
   ],
   "source": [
    "# Verifying data types for each column\n",
    "main_frame.dtypes"
   ]
  },
  {
   "cell_type": "markdown",
   "metadata": {},
   "source": [
    "#### Converting Votes column from object to integer"
   ]
  },
  {
   "cell_type": "code",
   "execution_count": 74,
   "metadata": {},
   "outputs": [],
   "source": [
    "main_frame['Votes'] = main_frame['Votes'].fillna(0)\n",
    "main_frame['Votes'] = main_frame['Votes'].astype(int)"
   ]
  },
  {
   "cell_type": "code",
   "execution_count": 75,
   "metadata": {},
   "outputs": [
    {
     "data": {
      "text/plain": [
       "Cost_for_two                   object\n",
       "Cuisines                       object\n",
       "Features                       object\n",
       "Home_Delivery                  object\n",
       "Operational_hours              object\n",
       "Restaurant_Location            object\n",
       "Restaurant_Name                object\n",
       "Restaurant_Type                object\n",
       "View_Menu                      object\n",
       "Rating                        float64\n",
       "Votes                           int32\n",
       "Rating_Category                object\n",
       "Operational_after_Midnight     object\n",
       "Cuisine_count                  object\n",
       "Competitors_in_Location       float64\n",
       "Score                         float64\n",
       "dtype: object"
      ]
     },
     "execution_count": 75,
     "metadata": {},
     "output_type": "execute_result"
    }
   ],
   "source": [
    "main_frame.dtypes"
   ]
  },
  {
   "cell_type": "code",
   "execution_count": 77,
   "metadata": {},
   "outputs": [
    {
     "data": {
      "text/html": [
       "<div>\n",
       "<style scoped>\n",
       "    .dataframe tbody tr th:only-of-type {\n",
       "        vertical-align: middle;\n",
       "    }\n",
       "\n",
       "    .dataframe tbody tr th {\n",
       "        vertical-align: top;\n",
       "    }\n",
       "\n",
       "    .dataframe thead th {\n",
       "        text-align: right;\n",
       "    }\n",
       "</style>\n",
       "<table border=\"1\" class=\"dataframe\">\n",
       "  <thead>\n",
       "    <tr style=\"text-align: right;\">\n",
       "      <th></th>\n",
       "      <th>Cost_for_two</th>\n",
       "      <th>Cuisines</th>\n",
       "      <th>Features</th>\n",
       "      <th>Home_Delivery</th>\n",
       "      <th>Operational_hours</th>\n",
       "      <th>Restaurant_Location</th>\n",
       "      <th>Restaurant_Name</th>\n",
       "      <th>Restaurant_Type</th>\n",
       "      <th>View_Menu</th>\n",
       "      <th>Rating</th>\n",
       "      <th>Votes</th>\n",
       "      <th>Rating_Category</th>\n",
       "      <th>Operational_after_Midnight</th>\n",
       "      <th>Cuisine_count</th>\n",
       "      <th>Competitors_in_Location</th>\n",
       "      <th>Score</th>\n",
       "    </tr>\n",
       "  </thead>\n",
       "  <tbody>\n",
       "    <tr>\n",
       "      <th>0</th>\n",
       "      <td>1500</td>\n",
       "      <td>Finger Food, Continental, European, Italian</td>\n",
       "      <td>Food Hygiene Rated Restaurants In Mumbai, Best...</td>\n",
       "      <td>False</td>\n",
       "      <td>12noon â 1am (Mon-Sun)</td>\n",
       "      <td>Kamala Mills Compound</td>\n",
       "      <td>Lord of the Drinks</td>\n",
       "      <td>Lounge,Casual Dining</td>\n",
       "      <td>True</td>\n",
       "      <td>4.9</td>\n",
       "      <td>1326</td>\n",
       "      <td>Excellent</td>\n",
       "      <td>True</td>\n",
       "      <td>4</td>\n",
       "      <td>19.0</td>\n",
       "      <td>48.000806</td>\n",
       "    </tr>\n",
       "    <tr>\n",
       "      <th>1</th>\n",
       "      <td>800</td>\n",
       "      <td>Pizza</td>\n",
       "      <td>Value For Money, Best of Mumbai</td>\n",
       "      <td>False</td>\n",
       "      <td>11am â 12:30AM (Mon-Sun)</td>\n",
       "      <td>Malad West</td>\n",
       "      <td>Joey's Pizza</td>\n",
       "      <td>Quick Bites</td>\n",
       "      <td>True</td>\n",
       "      <td>4.6</td>\n",
       "      <td>5974</td>\n",
       "      <td>Excellent</td>\n",
       "      <td>True</td>\n",
       "      <td>1</td>\n",
       "      <td>209.0</td>\n",
       "      <td>71.950295</td>\n",
       "    </tr>\n",
       "    <tr>\n",
       "      <th>2</th>\n",
       "      <td>2500</td>\n",
       "      <td>Seafood</td>\n",
       "      <td>Super Seafood, Best of Mumbai</td>\n",
       "      <td>False</td>\n",
       "      <td>Closed (Mon),12noon â 3pm, 7pm â 12midnigh...</td>\n",
       "      <td>Bandra West</td>\n",
       "      <td>Bastian</td>\n",
       "      <td>Casual Dining,Bar</td>\n",
       "      <td>True</td>\n",
       "      <td>4.5</td>\n",
       "      <td>1438</td>\n",
       "      <td>Excellent</td>\n",
       "      <td>False</td>\n",
       "      <td>1</td>\n",
       "      <td>241.0</td>\n",
       "      <td>43.160370</td>\n",
       "    </tr>\n",
       "    <tr>\n",
       "      <th>3</th>\n",
       "      <td>1800</td>\n",
       "      <td>Finger Food, Continental</td>\n",
       "      <td>Where's The Party?, Best of Mumbai, Food Hygie...</td>\n",
       "      <td>False</td>\n",
       "      <td>12noon â 1am (Mon-Sun)</td>\n",
       "      <td>Lower Parel</td>\n",
       "      <td>Tamasha</td>\n",
       "      <td>Lounge,Bar</td>\n",
       "      <td>True</td>\n",
       "      <td>4.9</td>\n",
       "      <td>3275</td>\n",
       "      <td>Excellent</td>\n",
       "      <td>True</td>\n",
       "      <td>2</td>\n",
       "      <td>125.0</td>\n",
       "      <td>59.778427</td>\n",
       "    </tr>\n",
       "    <tr>\n",
       "      <th>4</th>\n",
       "      <td>450</td>\n",
       "      <td>North Indian, Street Food, Fast Food, Chinese</td>\n",
       "      <td></td>\n",
       "      <td>True</td>\n",
       "      <td>12noon â 4pm, 7pm â 11:45pm (Mon-Sun)</td>\n",
       "      <td>Vashi</td>\n",
       "      <td>Bhagat Tarachand</td>\n",
       "      <td>Casual Dining</td>\n",
       "      <td>True</td>\n",
       "      <td>4.1</td>\n",
       "      <td>1422</td>\n",
       "      <td>Very Good</td>\n",
       "      <td>False</td>\n",
       "      <td>4</td>\n",
       "      <td>116.0</td>\n",
       "      <td>37.546442</td>\n",
       "    </tr>\n",
       "  </tbody>\n",
       "</table>\n",
       "</div>"
      ],
      "text/plain": [
       "  Cost_for_two                                       Cuisines  \\\n",
       "0         1500    Finger Food, Continental, European, Italian   \n",
       "1          800                                          Pizza   \n",
       "2         2500                                        Seafood   \n",
       "3         1800                       Finger Food, Continental   \n",
       "4          450  North Indian, Street Food, Fast Food, Chinese   \n",
       "\n",
       "                                            Features Home_Delivery  \\\n",
       "0  Food Hygiene Rated Restaurants In Mumbai, Best...         False   \n",
       "1                    Value For Money, Best of Mumbai         False   \n",
       "2                      Super Seafood, Best of Mumbai         False   \n",
       "3  Where's The Party?, Best of Mumbai, Food Hygie...         False   \n",
       "4                                                             True   \n",
       "\n",
       "                                   Operational_hours    Restaurant_Location  \\\n",
       "0                           12noon â 1am (Mon-Sun)  Kamala Mills Compound   \n",
       "1                         11am â 12:30AM (Mon-Sun)             Malad West   \n",
       "2  Closed (Mon),12noon â 3pm, 7pm â 12midnigh...            Bandra West   \n",
       "3                           12noon â 1am (Mon-Sun)            Lower Parel   \n",
       "4          12noon â 4pm, 7pm â 11:45pm (Mon-Sun)                  Vashi   \n",
       "\n",
       "      Restaurant_Name       Restaurant_Type View_Menu  Rating  Votes  \\\n",
       "0  Lord of the Drinks  Lounge,Casual Dining      True     4.9   1326   \n",
       "1        Joey's Pizza           Quick Bites      True     4.6   5974   \n",
       "2             Bastian     Casual Dining,Bar      True     4.5   1438   \n",
       "3             Tamasha            Lounge,Bar      True     4.9   3275   \n",
       "4    Bhagat Tarachand         Casual Dining      True     4.1   1422   \n",
       "\n",
       "  Rating_Category Operational_after_Midnight Cuisine_count  \\\n",
       "0       Excellent                       True             4   \n",
       "1       Excellent                       True             1   \n",
       "2       Excellent                      False             1   \n",
       "3       Excellent                       True             2   \n",
       "4       Very Good                      False             4   \n",
       "\n",
       "   Competitors_in_Location      Score  \n",
       "0                     19.0  48.000806  \n",
       "1                    209.0  71.950295  \n",
       "2                    241.0  43.160370  \n",
       "3                    125.0  59.778427  \n",
       "4                    116.0  37.546442  "
      ]
     },
     "execution_count": 77,
     "metadata": {},
     "output_type": "execute_result"
    }
   ],
   "source": [
    "main_frame.head()"
   ]
  },
  {
   "cell_type": "code",
   "execution_count": null,
   "metadata": {},
   "outputs": [],
   "source": []
  }
 ],
 "metadata": {
  "kernelspec": {
   "display_name": "Python 3",
   "language": "python",
   "name": "python3"
  },
  "language_info": {
   "codemirror_mode": {
    "name": "ipython",
    "version": 3
   },
   "file_extension": ".py",
   "mimetype": "text/x-python",
   "name": "python",
   "nbconvert_exporter": "python",
   "pygments_lexer": "ipython3",
   "version": "3.7.4"
  }
 },
 "nbformat": 4,
 "nbformat_minor": 4
}
