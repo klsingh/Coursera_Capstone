{
    "cells": [
        {
            "cell_type": "markdown",
            "metadata": {
                "collapsed": true
            },
            "source": "# Segmenting and Clustering Neighborhoods in Toronto"
        },
        {
            "cell_type": "markdown",
            "metadata": {},
            "source": "Import Libraries"
        },
        {
            "cell_type": "code",
            "execution_count": 27,
            "metadata": {},
            "outputs": [],
            "source": "import numpy as np \nimport pandas as pd \nimport requests\nfrom bs4 import BeautifulSoup"
        },
        {
            "cell_type": "markdown",
            "metadata": {},
            "source": "get data from website"
        },
        {
            "cell_type": "code",
            "execution_count": 28,
            "metadata": {},
            "outputs": [
                {
                    "name": "stdout",
                    "output_type": "stream",
                    "text": "[{\"Postcode\":\"M1A\",\"Borough\":\"Not assigned\",\"Neighborhood\":\"Not assigned\"},{\"Postcode\":\"M2A\",\"Borough\":\"Not assigned\",\"Neighborhood\":\"Not assigned\"},{\"Postcode\":\"M3A\",\"Borough\":\"North York\",\"Neighborhood\":\"Parkwoods\"},{\"Postcode\":\"M4A\",\"Borough\":\"North York\",\"Neighborhood\":\"Victoria Village\"},{\"Postcode\":\"M5A\",\"Borough\":\"Downtown Toronto\",\"Neighborhood\":\"Harbourfront\"},{\"Postcode\":\"M6A\",\"Borough\":\"North York\",\"Neighborhood\":\"Lawrence Heights\"},{\"Postcode\":\"M6A\",\"Borough\":\"North York\",\"Neighborhood\":\"Lawrence Manor\"},{\"Postcode\":\"M7A\",\"Borough\":\"Downtown Toronto\",\"Neighborhood\":\"Queen's Park\"},{\"Postcode\":\"M8A\",\"Borough\":\"Not assigned\",\"Neighborhood\":\"Not assigned\"},{\"Postcode\":\"M9A\",\"Borough\":\"Queen's Park\",\"Neighborhood\":\"Not assigned\"},{\"Postcode\":\"M1B\",\"Borough\":\"Scarborough\",\"Neighborhood\":\"Rouge\"},{\"Postcode\":\"M1B\",\"Borough\":\"Scarborough\",\"Neighborhood\":\"Malvern\"},{\"Postcode\":\"M2B\",\"Borough\":\"Not assigned\",\"Neighborhood\":\"Not assigned\"},{\"Postcode\":\"M3B\",\"Borough\":\"North York\",\"Neighborhood\":\"Don Mills North\"},{\"Postcode\":\"M4B\",\"Borough\":\"East York\",\"Neighborhood\":\"Woodbine Gardens\"},{\"Postcode\":\"M4B\",\"Borough\":\"East York\",\"Neighborhood\":\"Parkview Hill\"},{\"Postcode\":\"M5B\",\"Borough\":\"Downtown Toronto\",\"Neighborhood\":\"Ryerson\"},{\"Postcode\":\"M5B\",\"Borough\":\"Downtown Toronto\",\"Neighborhood\":\"Garden District\"},{\"Postcode\":\"M6B\",\"Borough\":\"North York\",\"Neighborhood\":\"Glencairn\"},{\"Postcode\":\"M7B\",\"Borough\":\"Not assigned\",\"Neighborhood\":\"Not assigned\"},{\"Postcode\":\"M8B\",\"Borough\":\"Not assigned\",\"Neighborhood\":\"Not assigned\"},{\"Postcode\":\"M9B\",\"Borough\":\"Etobicoke\",\"Neighborhood\":\"Cloverdale\"},{\"Postcode\":\"M9B\",\"Borough\":\"Etobicoke\",\"Neighborhood\":\"Islington\"},{\"Postcode\":\"M9B\",\"Borough\":\"Etobicoke\",\"Neighborhood\":\"Martin Grove\"},{\"Postcode\":\"M9B\",\"Borough\":\"Etobicoke\",\"Neighborhood\":\"Princess Gardens\"},{\"Postcode\":\"M9B\",\"Borough\":\"Etobicoke\",\"Neighborhood\":\"West Deane Park\"},{\"Postcode\":\"M1C\",\"Borough\":\"Scarborough\",\"Neighborhood\":\"Highland Creek\"},{\"Postcode\":\"M1C\",\"Borough\":\"Scarborough\",\"Neighborhood\":\"Rouge Hill\"},{\"Postcode\":\"M1C\",\"Borough\":\"Scarborough\",\"Neighborhood\":\"Port Union\"},{\"Postcode\":\"M2C\",\"Borough\":\"Not assigned\",\"Neighborhood\":\"Not assigned\"},{\"Postcode\":\"M3C\",\"Borough\":\"North York\",\"Neighborhood\":\"Flemingdon Park\"},{\"Postcode\":\"M3C\",\"Borough\":\"North York\",\"Neighborhood\":\"Don Mills South\"},{\"Postcode\":\"M4C\",\"Borough\":\"East York\",\"Neighborhood\":\"Woodbine Heights\"},{\"Postcode\":\"M5C\",\"Borough\":\"Downtown Toronto\",\"Neighborhood\":\"St. James Town\"},{\"Postcode\":\"M6C\",\"Borough\":\"York\",\"Neighborhood\":\"Humewood-Cedarvale\"},{\"Postcode\":\"M7C\",\"Borough\":\"Not assigned\",\"Neighborhood\":\"Not assigned\"},{\"Postcode\":\"M8C\",\"Borough\":\"Not assigned\",\"Neighborhood\":\"Not assigned\"},{\"Postcode\":\"M9C\",\"Borough\":\"Etobicoke\",\"Neighborhood\":\"Bloordale Gardens\"},{\"Postcode\":\"M9C\",\"Borough\":\"Etobicoke\",\"Neighborhood\":\"Eringate\"},{\"Postcode\":\"M9C\",\"Borough\":\"Etobicoke\",\"Neighborhood\":\"Markland Wood\"},{\"Postcode\":\"M9C\",\"Borough\":\"Etobicoke\",\"Neighborhood\":\"Old Burnhamthorpe\"},{\"Postcode\":\"M1E\",\"Borough\":\"Scarborough\",\"Neighborhood\":\"Guildwood\"},{\"Postcode\":\"M1E\",\"Borough\":\"Scarborough\",\"Neighborhood\":\"Morningside\"},{\"Postcode\":\"M1E\",\"Borough\":\"Scarborough\",\"Neighborhood\":\"West Hill\"},{\"Postcode\":\"M2E\",\"Borough\":\"Not assigned\",\"Neighborhood\":\"Not assigned\"},{\"Postcode\":\"M3E\",\"Borough\":\"Not assigned\",\"Neighborhood\":\"Not assigned\"},{\"Postcode\":\"M4E\",\"Borough\":\"East Toronto\",\"Neighborhood\":\"The Beaches\"},{\"Postcode\":\"M5E\",\"Borough\":\"Downtown Toronto\",\"Neighborhood\":\"Berczy Park\"},{\"Postcode\":\"M6E\",\"Borough\":\"York\",\"Neighborhood\":\"Caledonia-Fairbanks\"},{\"Postcode\":\"M7E\",\"Borough\":\"Not assigned\",\"Neighborhood\":\"Not assigned\"},{\"Postcode\":\"M8E\",\"Borough\":\"Not assigned\",\"Neighborhood\":\"Not assigned\"},{\"Postcode\":\"M9E\",\"Borough\":\"Not assigned\",\"Neighborhood\":\"Not assigned\"},{\"Postcode\":\"M1G\",\"Borough\":\"Scarborough\",\"Neighborhood\":\"Woburn\"},{\"Postcode\":\"M2G\",\"Borough\":\"Not assigned\",\"Neighborhood\":\"Not assigned\"},{\"Postcode\":\"M3G\",\"Borough\":\"Not assigned\",\"Neighborhood\":\"Not assigned\"},{\"Postcode\":\"M4G\",\"Borough\":\"East York\",\"Neighborhood\":\"Leaside\"},{\"Postcode\":\"M5G\",\"Borough\":\"Downtown Toronto\",\"Neighborhood\":\"Central Bay Street\"},{\"Postcode\":\"M6G\",\"Borough\":\"Downtown Toronto\",\"Neighborhood\":\"Christie\"},{\"Postcode\":\"M7G\",\"Borough\":\"Not assigned\",\"Neighborhood\":\"Not assigned\"},{\"Postcode\":\"M8G\",\"Borough\":\"Not assigned\",\"Neighborhood\":\"Not assigned\"},{\"Postcode\":\"M9G\",\"Borough\":\"Not assigned\",\"Neighborhood\":\"Not assigned\"},{\"Postcode\":\"M1H\",\"Borough\":\"Scarborough\",\"Neighborhood\":\"Cedarbrae\"},{\"Postcode\":\"M2H\",\"Borough\":\"North York\",\"Neighborhood\":\"Hillcrest Village\"},{\"Postcode\":\"M3H\",\"Borough\":\"North York\",\"Neighborhood\":\"Bathurst Manor\"},{\"Postcode\":\"M3H\",\"Borough\":\"North York\",\"Neighborhood\":\"Downsview North\"},{\"Postcode\":\"M3H\",\"Borough\":\"North York\",\"Neighborhood\":\"Wilson Heights\"},{\"Postcode\":\"M4H\",\"Borough\":\"East York\",\"Neighborhood\":\"Thorncliffe Park\"},{\"Postcode\":\"M5H\",\"Borough\":\"Downtown Toronto\",\"Neighborhood\":\"Adelaide\"},{\"Postcode\":\"M5H\",\"Borough\":\"Downtown Toronto\",\"Neighborhood\":\"King\"},{\"Postcode\":\"M5H\",\"Borough\":\"Downtown Toronto\",\"Neighborhood\":\"Richmond\"},{\"Postcode\":\"M6H\",\"Borough\":\"West Toronto\",\"Neighborhood\":\"Dovercourt Village\"},{\"Postcode\":\"M6H\",\"Borough\":\"West Toronto\",\"Neighborhood\":\"Dufferin\"},{\"Postcode\":\"M7H\",\"Borough\":\"Not assigned\",\"Neighborhood\":\"Not assigned\"},{\"Postcode\":\"M8H\",\"Borough\":\"Not assigned\",\"Neighborhood\":\"Not assigned\"},{\"Postcode\":\"M9H\",\"Borough\":\"Not assigned\",\"Neighborhood\":\"Not assigned\"},{\"Postcode\":\"M1J\",\"Borough\":\"Scarborough\",\"Neighborhood\":\"Scarborough Village\"},{\"Postcode\":\"M2J\",\"Borough\":\"North York\",\"Neighborhood\":\"Fairview\"},{\"Postcode\":\"M2J\",\"Borough\":\"North York\",\"Neighborhood\":\"Henry Farm\"},{\"Postcode\":\"M2J\",\"Borough\":\"North York\",\"Neighborhood\":\"Oriole\"},{\"Postcode\":\"M3J\",\"Borough\":\"North York\",\"Neighborhood\":\"Northwood Park\"},{\"Postcode\":\"M3J\",\"Borough\":\"North York\",\"Neighborhood\":\"York University\"},{\"Postcode\":\"M4J\",\"Borough\":\"East York\",\"Neighborhood\":\"East Toronto\"},{\"Postcode\":\"M5J\",\"Borough\":\"Downtown Toronto\",\"Neighborhood\":\"Harbourfront East\"},{\"Postcode\":\"M5J\",\"Borough\":\"Downtown Toronto\",\"Neighborhood\":\"Toronto Islands\"},{\"Postcode\":\"M5J\",\"Borough\":\"Downtown Toronto\",\"Neighborhood\":\"Union Station\"},{\"Postcode\":\"M6J\",\"Borough\":\"West Toronto\",\"Neighborhood\":\"Little Portugal\"},{\"Postcode\":\"M6J\",\"Borough\":\"West Toronto\",\"Neighborhood\":\"Trinity\"},{\"Postcode\":\"M7J\",\"Borough\":\"Not assigned\",\"Neighborhood\":\"Not assigned\"},{\"Postcode\":\"M8J\",\"Borough\":\"Not assigned\",\"Neighborhood\":\"Not assigned\"},{\"Postcode\":\"M9J\",\"Borough\":\"Not assigned\",\"Neighborhood\":\"Not assigned\"},{\"Postcode\":\"M1K\",\"Borough\":\"Scarborough\",\"Neighborhood\":\"East Birchmount Park\"},{\"Postcode\":\"M1K\",\"Borough\":\"Scarborough\",\"Neighborhood\":\"Ionview\"},{\"Postcode\":\"M1K\",\"Borough\":\"Scarborough\",\"Neighborhood\":\"Kennedy Park\"},{\"Postcode\":\"M2K\",\"Borough\":\"North York\",\"Neighborhood\":\"Bayview Village\"},{\"Postcode\":\"M3K\",\"Borough\":\"North York\",\"Neighborhood\":\"CFB Toronto\"},{\"Postcode\":\"M3K\",\"Borough\":\"North York\",\"Neighborhood\":\"Downsview East\"},{\"Postcode\":\"M4K\",\"Borough\":\"East Toronto\",\"Neighborhood\":\"The Danforth West\"},{\"Postcode\":\"M4K\",\"Borough\":\"East Toronto\",\"Neighborhood\":\"Riverdale\"},{\"Postcode\":\"M5K\",\"Borough\":\"Downtown Toronto\",\"Neighborhood\":\"Design Exchange\"},{\"Postcode\":\"M5K\",\"Borough\":\"Downtown Toronto\",\"Neighborhood\":\"Toronto Dominion Centre\"},{\"Postcode\":\"M6K\",\"Borough\":\"West Toronto\",\"Neighborhood\":\"Brockton\"},{\"Postcode\":\"M6K\",\"Borough\":\"West Toronto\",\"Neighborhood\":\"Exhibition Place\"},{\"Postcode\":\"M6K\",\"Borough\":\"West Toronto\",\"Neighborhood\":\"Parkdale Village\"},{\"Postcode\":\"M7K\",\"Borough\":\"Not assigned\",\"Neighborhood\":\"Not assigned\"},{\"Postcode\":\"M8K\",\"Borough\":\"Not assigned\",\"Neighborhood\":\"Not assigned\"},{\"Postcode\":\"M9K\",\"Borough\":\"Not assigned\",\"Neighborhood\":\"Not assigned\"},{\"Postcode\":\"M1L\",\"Borough\":\"Scarborough\",\"Neighborhood\":\"Clairlea\"},{\"Postcode\":\"M1L\",\"Borough\":\"Scarborough\",\"Neighborhood\":\"Golden Mile\"},{\"Postcode\":\"M1L\",\"Borough\":\"Scarborough\",\"Neighborhood\":\"Oakridge\"},{\"Postcode\":\"M2L\",\"Borough\":\"North York\",\"Neighborhood\":\"Silver Hills\"},{\"Postcode\":\"M2L\",\"Borough\":\"North York\",\"Neighborhood\":\"York Mills\"},{\"Postcode\":\"M3L\",\"Borough\":\"North York\",\"Neighborhood\":\"Downsview West\"},{\"Postcode\":\"M4L\",\"Borough\":\"East Toronto\",\"Neighborhood\":\"The Beaches West\"},{\"Postcode\":\"M4L\",\"Borough\":\"East Toronto\",\"Neighborhood\":\"India Bazaar\"},{\"Postcode\":\"M5L\",\"Borough\":\"Downtown Toronto\",\"Neighborhood\":\"Commerce Court\"},{\"Postcode\":\"M5L\",\"Borough\":\"Downtown Toronto\",\"Neighborhood\":\"Victoria Hotel\"},{\"Postcode\":\"M6L\",\"Borough\":\"North York\",\"Neighborhood\":\"Downsview\"},{\"Postcode\":\"M6L\",\"Borough\":\"North York\",\"Neighborhood\":\"North Park\"},{\"Postcode\":\"M6L\",\"Borough\":\"North York\",\"Neighborhood\":\"Upwood Park\"},{\"Postcode\":\"M7L\",\"Borough\":\"Not assigned\",\"Neighborhood\":\"Not assigned\"},{\"Postcode\":\"M8L\",\"Borough\":\"Not assigned\",\"Neighborhood\":\"Not assigned\"},{\"Postcode\":\"M9L\",\"Borough\":\"North York\",\"Neighborhood\":\"Humber Summit\"},{\"Postcode\":\"M1M\",\"Borough\":\"Scarborough\",\"Neighborhood\":\"Cliffcrest\"},{\"Postcode\":\"M1M\",\"Borough\":\"Scarborough\",\"Neighborhood\":\"Cliffside\"},{\"Postcode\":\"M1M\",\"Borough\":\"Scarborough\",\"Neighborhood\":\"Scarborough Village West\"},{\"Postcode\":\"M2M\",\"Borough\":\"North York\",\"Neighborhood\":\"Newtonbrook\"},{\"Postcode\":\"M2M\",\"Borough\":\"North York\",\"Neighborhood\":\"Willowdale\"},{\"Postcode\":\"M3M\",\"Borough\":\"North York\",\"Neighborhood\":\"Downsview Central\"},{\"Postcode\":\"M4M\",\"Borough\":\"East Toronto\",\"Neighborhood\":\"Studio District\"},{\"Postcode\":\"M5M\",\"Borough\":\"North York\",\"Neighborhood\":\"Bedford Park\"},{\"Postcode\":\"M5M\",\"Borough\":\"North York\",\"Neighborhood\":\"Lawrence Manor East\"},{\"Postcode\":\"M6M\",\"Borough\":\"York\",\"Neighborhood\":\"Del Ray\"},{\"Postcode\":\"M6M\",\"Borough\":\"York\",\"Neighborhood\":\"Keelesdale\"},{\"Postcode\":\"M6M\",\"Borough\":\"York\",\"Neighborhood\":\"Mount Dennis\"},{\"Postcode\":\"M6M\",\"Borough\":\"York\",\"Neighborhood\":\"Silverthorn\"},{\"Postcode\":\"M7M\",\"Borough\":\"Not assigned\",\"Neighborhood\":\"Not assigned\"},{\"Postcode\":\"M8M\",\"Borough\":\"Not assigned\",\"Neighborhood\":\"Not assigned\"},{\"Postcode\":\"M9M\",\"Borough\":\"North York\",\"Neighborhood\":\"Emery\"},{\"Postcode\":\"M9M\",\"Borough\":\"North York\",\"Neighborhood\":\"Humberlea\"},{\"Postcode\":\"M1N\",\"Borough\":\"Scarborough\",\"Neighborhood\":\"Birch Cliff\"},{\"Postcode\":\"M1N\",\"Borough\":\"Scarborough\",\"Neighborhood\":\"Cliffside West\"},{\"Postcode\":\"M2N\",\"Borough\":\"North York\",\"Neighborhood\":\"Willowdale South\"},{\"Postcode\":\"M3N\",\"Borough\":\"North York\",\"Neighborhood\":\"Downsview Northwest\"},{\"Postcode\":\"M4N\",\"Borough\":\"Central Toronto\",\"Neighborhood\":\"Lawrence Park\"},{\"Postcode\":\"M5N\",\"Borough\":\"Central Toronto\",\"Neighborhood\":\"Roselawn\"},{\"Postcode\":\"M6N\",\"Borough\":\"York\",\"Neighborhood\":\"The Junction North\"},{\"Postcode\":\"M6N\",\"Borough\":\"York\",\"Neighborhood\":\"Runnymede\"},{\"Postcode\":\"M7N\",\"Borough\":\"Not assigned\",\"Neighborhood\":\"Not assigned\"},{\"Postcode\":\"M8N\",\"Borough\":\"Not assigned\",\"Neighborhood\":\"Not assigned\"},{\"Postcode\":\"M9N\",\"Borough\":\"York\",\"Neighborhood\":\"Weston\"},{\"Postcode\":\"M1P\",\"Borough\":\"Scarborough\",\"Neighborhood\":\"Dorset Park\"},{\"Postcode\":\"M1P\",\"Borough\":\"Scarborough\",\"Neighborhood\":\"Scarborough Town Centre\"},{\"Postcode\":\"M1P\",\"Borough\":\"Scarborough\",\"Neighborhood\":\"Wexford Heights\"},{\"Postcode\":\"M2P\",\"Borough\":\"North York\",\"Neighborhood\":\"York Mills West\"},{\"Postcode\":\"M3P\",\"Borough\":\"Not assigned\",\"Neighborhood\":\"Not assigned\"},{\"Postcode\":\"M4P\",\"Borough\":\"Central Toronto\",\"Neighborhood\":\"Davisville North\"},{\"Postcode\":\"M5P\",\"Borough\":\"Central Toronto\",\"Neighborhood\":\"Forest Hill North\"},{\"Postcode\":\"M5P\",\"Borough\":\"Central Toronto\",\"Neighborhood\":\"Forest Hill West\"},{\"Postcode\":\"M6P\",\"Borough\":\"West Toronto\",\"Neighborhood\":\"High Park\"},{\"Postcode\":\"M6P\",\"Borough\":\"West Toronto\",\"Neighborhood\":\"The Junction South\"},{\"Postcode\":\"M7P\",\"Borough\":\"Not assigned\",\"Neighborhood\":\"Not assigned\"},{\"Postcode\":\"M8P\",\"Borough\":\"Not assigned\",\"Neighborhood\":\"Not assigned\"},{\"Postcode\":\"M9P\",\"Borough\":\"Etobicoke\",\"Neighborhood\":\"Westmount\"},{\"Postcode\":\"M1R\",\"Borough\":\"Scarborough\",\"Neighborhood\":\"Maryvale\"},{\"Postcode\":\"M1R\",\"Borough\":\"Scarborough\",\"Neighborhood\":\"Wexford\"},{\"Postcode\":\"M2R\",\"Borough\":\"North York\",\"Neighborhood\":\"Willowdale West\"},{\"Postcode\":\"M3R\",\"Borough\":\"Not assigned\",\"Neighborhood\":\"Not assigned\"},{\"Postcode\":\"M4R\",\"Borough\":\"Central Toronto\",\"Neighborhood\":\"North Toronto West\"},{\"Postcode\":\"M5R\",\"Borough\":\"Central Toronto\",\"Neighborhood\":\"The Annex\"},{\"Postcode\":\"M5R\",\"Borough\":\"Central Toronto\",\"Neighborhood\":\"North Midtown\"},{\"Postcode\":\"M5R\",\"Borough\":\"Central Toronto\",\"Neighborhood\":\"Yorkville\"},{\"Postcode\":\"M6R\",\"Borough\":\"West Toronto\",\"Neighborhood\":\"Parkdale\"},{\"Postcode\":\"M6R\",\"Borough\":\"West Toronto\",\"Neighborhood\":\"Roncesvalles\"},{\"Postcode\":\"M7R\",\"Borough\":\"Mississauga\",\"Neighborhood\":\"Canada Post Gateway Processing Centre\"},{\"Postcode\":\"M8R\",\"Borough\":\"Not assigned\",\"Neighborhood\":\"Not assigned\"},{\"Postcode\":\"M9R\",\"Borough\":\"Etobicoke\",\"Neighborhood\":\"Kingsview Village\"},{\"Postcode\":\"M9R\",\"Borough\":\"Etobicoke\",\"Neighborhood\":\"Martin Grove Gardens\"},{\"Postcode\":\"M9R\",\"Borough\":\"Etobicoke\",\"Neighborhood\":\"Richview Gardens\"},{\"Postcode\":\"M9R\",\"Borough\":\"Etobicoke\",\"Neighborhood\":\"St. Phillips\"},{\"Postcode\":\"M1S\",\"Borough\":\"Scarborough\",\"Neighborhood\":\"Agincourt\"},{\"Postcode\":\"M2S\",\"Borough\":\"Not assigned\",\"Neighborhood\":\"Not assigned\"},{\"Postcode\":\"M3S\",\"Borough\":\"Not assigned\",\"Neighborhood\":\"Not assigned\"},{\"Postcode\":\"M4S\",\"Borough\":\"Central Toronto\",\"Neighborhood\":\"Davisville\"},{\"Postcode\":\"M5S\",\"Borough\":\"Downtown Toronto\",\"Neighborhood\":\"Harbord\"},{\"Postcode\":\"M5S\",\"Borough\":\"Downtown Toronto\",\"Neighborhood\":\"University of Toronto\"},{\"Postcode\":\"M6S\",\"Borough\":\"West Toronto\",\"Neighborhood\":\"Runnymede\"},{\"Postcode\":\"M6S\",\"Borough\":\"West Toronto\",\"Neighborhood\":\"Swansea\"},{\"Postcode\":\"M7S\",\"Borough\":\"Not assigned\",\"Neighborhood\":\"Not assigned\"},{\"Postcode\":\"M8S\",\"Borough\":\"Not assigned\",\"Neighborhood\":\"Not assigned\"},{\"Postcode\":\"M9S\",\"Borough\":\"Not assigned\",\"Neighborhood\":\"Not assigned\"},{\"Postcode\":\"M1T\",\"Borough\":\"Scarborough\",\"Neighborhood\":\"Clarks Corners\"},{\"Postcode\":\"M1T\",\"Borough\":\"Scarborough\",\"Neighborhood\":\"Sullivan\"},{\"Postcode\":\"M1T\",\"Borough\":\"Scarborough\",\"Neighborhood\":\"Tam O'Shanter\"},{\"Postcode\":\"M2T\",\"Borough\":\"Not assigned\",\"Neighborhood\":\"Not assigned\"},{\"Postcode\":\"M3T\",\"Borough\":\"Not assigned\",\"Neighborhood\":\"Not assigned\"},{\"Postcode\":\"M4T\",\"Borough\":\"Central Toronto\",\"Neighborhood\":\"Moore Park\"},{\"Postcode\":\"M4T\",\"Borough\":\"Central Toronto\",\"Neighborhood\":\"Summerhill East\"},{\"Postcode\":\"M5T\",\"Borough\":\"Downtown Toronto\",\"Neighborhood\":\"Chinatown\"},{\"Postcode\":\"M5T\",\"Borough\":\"Downtown Toronto\",\"Neighborhood\":\"Grange Park\"},{\"Postcode\":\"M5T\",\"Borough\":\"Downtown Toronto\",\"Neighborhood\":\"Kensington Market\"},{\"Postcode\":\"M6T\",\"Borough\":\"Not assigned\",\"Neighborhood\":\"Not assigned\"},{\"Postcode\":\"M7T\",\"Borough\":\"Not assigned\",\"Neighborhood\":\"Not assigned\"},{\"Postcode\":\"M8T\",\"Borough\":\"Not assigned\",\"Neighborhood\":\"Not assigned\"},{\"Postcode\":\"M9T\",\"Borough\":\"Not assigned\",\"Neighborhood\":\"Not assigned\"},{\"Postcode\":\"M1V\",\"Borough\":\"Scarborough\",\"Neighborhood\":\"Agincourt North\"},{\"Postcode\":\"M1V\",\"Borough\":\"Scarborough\",\"Neighborhood\":\"L'Amoreaux East\"},{\"Postcode\":\"M1V\",\"Borough\":\"Scarborough\",\"Neighborhood\":\"Milliken\"},{\"Postcode\":\"M1V\",\"Borough\":\"Scarborough\",\"Neighborhood\":\"Steeles East\"},{\"Postcode\":\"M2V\",\"Borough\":\"Not assigned\",\"Neighborhood\":\"Not assigned\"},{\"Postcode\":\"M3V\",\"Borough\":\"Not assigned\",\"Neighborhood\":\"Not assigned\"},{\"Postcode\":\"M4V\",\"Borough\":\"Central Toronto\",\"Neighborhood\":\"Deer Park\"},{\"Postcode\":\"M4V\",\"Borough\":\"Central Toronto\",\"Neighborhood\":\"Forest Hill SE\"},{\"Postcode\":\"M4V\",\"Borough\":\"Central Toronto\",\"Neighborhood\":\"Rathnelly\"},{\"Postcode\":\"M4V\",\"Borough\":\"Central Toronto\",\"Neighborhood\":\"South Hill\"},{\"Postcode\":\"M4V\",\"Borough\":\"Central Toronto\",\"Neighborhood\":\"Summerhill West\"},{\"Postcode\":\"M5V\",\"Borough\":\"Downtown Toronto\",\"Neighborhood\":\"CN Tower\"},{\"Postcode\":\"M5V\",\"Borough\":\"Downtown Toronto\",\"Neighborhood\":\"Bathurst Quay\"},{\"Postcode\":\"M5V\",\"Borough\":\"Downtown Toronto\",\"Neighborhood\":\"Island airport\"},{\"Postcode\":\"M5V\",\"Borough\":\"Downtown Toronto\",\"Neighborhood\":\"Harbourfront West\"},{\"Postcode\":\"M5V\",\"Borough\":\"Downtown Toronto\",\"Neighborhood\":\"King and Spadina\"},{\"Postcode\":\"M5V\",\"Borough\":\"Downtown Toronto\",\"Neighborhood\":\"Railway Lands\"},{\"Postcode\":\"M5V\",\"Borough\":\"Downtown Toronto\",\"Neighborhood\":\"South Niagara\"},{\"Postcode\":\"M6V\",\"Borough\":\"Not assigned\",\"Neighborhood\":\"Not assigned\"},{\"Postcode\":\"M7V\",\"Borough\":\"Not assigned\",\"Neighborhood\":\"Not assigned\"},{\"Postcode\":\"M8V\",\"Borough\":\"Etobicoke\",\"Neighborhood\":\"Humber Bay Shores\"},{\"Postcode\":\"M8V\",\"Borough\":\"Etobicoke\",\"Neighborhood\":\"Mimico South\"},{\"Postcode\":\"M8V\",\"Borough\":\"Etobicoke\",\"Neighborhood\":\"New Toronto\"},{\"Postcode\":\"M9V\",\"Borough\":\"Etobicoke\",\"Neighborhood\":\"Albion Gardens\"},{\"Postcode\":\"M9V\",\"Borough\":\"Etobicoke\",\"Neighborhood\":\"Beaumond Heights\"},{\"Postcode\":\"M9V\",\"Borough\":\"Etobicoke\",\"Neighborhood\":\"Humbergate\"},{\"Postcode\":\"M9V\",\"Borough\":\"Etobicoke\",\"Neighborhood\":\"Jamestown\"},{\"Postcode\":\"M9V\",\"Borough\":\"Etobicoke\",\"Neighborhood\":\"Mount Olive\"},{\"Postcode\":\"M9V\",\"Borough\":\"Etobicoke\",\"Neighborhood\":\"Silverstone\"},{\"Postcode\":\"M9V\",\"Borough\":\"Etobicoke\",\"Neighborhood\":\"South Steeles\"},{\"Postcode\":\"M9V\",\"Borough\":\"Etobicoke\",\"Neighborhood\":\"Thistletown\"},{\"Postcode\":\"M1W\",\"Borough\":\"Scarborough\",\"Neighborhood\":\"L'Amoreaux West\"},{\"Postcode\":\"M2W\",\"Borough\":\"Not assigned\",\"Neighborhood\":\"Not assigned\"},{\"Postcode\":\"M3W\",\"Borough\":\"Not assigned\",\"Neighborhood\":\"Not assigned\"},{\"Postcode\":\"M4W\",\"Borough\":\"Downtown Toronto\",\"Neighborhood\":\"Rosedale\"},{\"Postcode\":\"M5W\",\"Borough\":\"Downtown Toronto\",\"Neighborhood\":\"Stn A PO Boxes 25 The Esplanade\"},{\"Postcode\":\"M6W\",\"Borough\":\"Not assigned\",\"Neighborhood\":\"Not assigned\"},{\"Postcode\":\"M7W\",\"Borough\":\"Not assigned\",\"Neighborhood\":\"Not assigned\"},{\"Postcode\":\"M8W\",\"Borough\":\"Etobicoke\",\"Neighborhood\":\"Alderwood\"},{\"Postcode\":\"M8W\",\"Borough\":\"Etobicoke\",\"Neighborhood\":\"Long Branch\"},{\"Postcode\":\"M9W\",\"Borough\":\"Etobicoke\",\"Neighborhood\":\"Northwest\"},{\"Postcode\":\"M1X\",\"Borough\":\"Scarborough\",\"Neighborhood\":\"Upper Rouge\"},{\"Postcode\":\"M2X\",\"Borough\":\"Not assigned\",\"Neighborhood\":\"Not assigned\"},{\"Postcode\":\"M3X\",\"Borough\":\"Not assigned\",\"Neighborhood\":\"Not assigned\"},{\"Postcode\":\"M4X\",\"Borough\":\"Downtown Toronto\",\"Neighborhood\":\"Cabbagetown\"},{\"Postcode\":\"M4X\",\"Borough\":\"Downtown Toronto\",\"Neighborhood\":\"St. James Town\"},{\"Postcode\":\"M5X\",\"Borough\":\"Downtown Toronto\",\"Neighborhood\":\"First Canadian Place\"},{\"Postcode\":\"M5X\",\"Borough\":\"Downtown Toronto\",\"Neighborhood\":\"Underground city\"},{\"Postcode\":\"M6X\",\"Borough\":\"Not assigned\",\"Neighborhood\":\"Not assigned\"},{\"Postcode\":\"M7X\",\"Borough\":\"Not assigned\",\"Neighborhood\":\"Not assigned\"},{\"Postcode\":\"M8X\",\"Borough\":\"Etobicoke\",\"Neighborhood\":\"The Kingsway\"},{\"Postcode\":\"M8X\",\"Borough\":\"Etobicoke\",\"Neighborhood\":\"Montgomery Road\"},{\"Postcode\":\"M8X\",\"Borough\":\"Etobicoke\",\"Neighborhood\":\"Old Mill North\"},{\"Postcode\":\"M9X\",\"Borough\":\"Not assigned\",\"Neighborhood\":\"Not assigned\"},{\"Postcode\":\"M1Y\",\"Borough\":\"Not assigned\",\"Neighborhood\":\"Not assigned\"},{\"Postcode\":\"M2Y\",\"Borough\":\"Not assigned\",\"Neighborhood\":\"Not assigned\"},{\"Postcode\":\"M3Y\",\"Borough\":\"Not assigned\",\"Neighborhood\":\"Not assigned\"},{\"Postcode\":\"M4Y\",\"Borough\":\"Downtown Toronto\",\"Neighborhood\":\"Church and Wellesley\"},{\"Postcode\":\"M5Y\",\"Borough\":\"Not assigned\",\"Neighborhood\":\"Not assigned\"},{\"Postcode\":\"M6Y\",\"Borough\":\"Not assigned\",\"Neighborhood\":\"Not assigned\"},{\"Postcode\":\"M7Y\",\"Borough\":\"East Toronto\",\"Neighborhood\":\"Business Reply Mail Processing Centre 969 Eastern\"},{\"Postcode\":\"M8Y\",\"Borough\":\"Etobicoke\",\"Neighborhood\":\"Humber Bay\"},{\"Postcode\":\"M8Y\",\"Borough\":\"Etobicoke\",\"Neighborhood\":\"King's Mill Park\"},{\"Postcode\":\"M8Y\",\"Borough\":\"Etobicoke\",\"Neighborhood\":\"Kingsway Park South East\"},{\"Postcode\":\"M8Y\",\"Borough\":\"Etobicoke\",\"Neighborhood\":\"Mimico NE\"},{\"Postcode\":\"M8Y\",\"Borough\":\"Etobicoke\",\"Neighborhood\":\"Old Mill South\"},{\"Postcode\":\"M8Y\",\"Borough\":\"Etobicoke\",\"Neighborhood\":\"The Queensway East\"},{\"Postcode\":\"M8Y\",\"Borough\":\"Etobicoke\",\"Neighborhood\":\"Royal York South East\"},{\"Postcode\":\"M8Y\",\"Borough\":\"Etobicoke\",\"Neighborhood\":\"Sunnylea\"},{\"Postcode\":\"M9Y\",\"Borough\":\"Not assigned\",\"Neighborhood\":\"Not assigned\"},{\"Postcode\":\"M1Z\",\"Borough\":\"Not assigned\",\"Neighborhood\":\"Not assigned\"},{\"Postcode\":\"M2Z\",\"Borough\":\"Not assigned\",\"Neighborhood\":\"Not assigned\"},{\"Postcode\":\"M3Z\",\"Borough\":\"Not assigned\",\"Neighborhood\":\"Not assigned\"},{\"Postcode\":\"M4Z\",\"Borough\":\"Not assigned\",\"Neighborhood\":\"Not assigned\"},{\"Postcode\":\"M5Z\",\"Borough\":\"Not assigned\",\"Neighborhood\":\"Not assigned\"},{\"Postcode\":\"M6Z\",\"Borough\":\"Not assigned\",\"Neighborhood\":\"Not assigned\"},{\"Postcode\":\"M7Z\",\"Borough\":\"Not assigned\",\"Neighborhood\":\"Not assigned\"},{\"Postcode\":\"M8Z\",\"Borough\":\"Etobicoke\",\"Neighborhood\":\"Kingsway Park South West\"},{\"Postcode\":\"M8Z\",\"Borough\":\"Etobicoke\",\"Neighborhood\":\"Mimico NW\"},{\"Postcode\":\"M8Z\",\"Borough\":\"Etobicoke\",\"Neighborhood\":\"The Queensway West\"},{\"Postcode\":\"M8Z\",\"Borough\":\"Etobicoke\",\"Neighborhood\":\"Royal York South West\"},{\"Postcode\":\"M8Z\",\"Borough\":\"Etobicoke\",\"Neighborhood\":\"South of Bloor\"},{\"Postcode\":\"M9Z\",\"Borough\":\"Not assigned\",\"Neighborhood\":\"Not assigned\"}]\n"
                }
            ],
            "source": "res = requests.get(\"https://en.wikipedia.org/wiki/List_of_postal_codes_of_Canada:_M\")\nsoup = BeautifulSoup(res.content,'lxml')\ntable = soup.find_all('table')[0] \ndf = pd.read_html(str(table))\nprint(df[0].to_json(orient='records'))"
        },
        {
            "cell_type": "markdown",
            "metadata": {},
            "source": "Convert data into Pandas dataframe"
        },
        {
            "cell_type": "code",
            "execution_count": 29,
            "metadata": {},
            "outputs": [],
            "source": "# define the dataframe columns\ncolumn_names = ['Postalcode','Borough','Neighborhood']\n# instantiate the dataframe\ndf = pd.DataFrame(columns = column_names)"
        },
        {
            "cell_type": "code",
            "execution_count": 30,
            "metadata": {},
            "outputs": [],
            "source": "for tr_cell in table.find_all('tr'):\n    row_data=[]\n    for td_cell in tr_cell.find_all('td'):\n        row_data.append(td_cell.text.strip())\n    if len(row_data)==3:\n        df.loc[len(df)] = row_data"
        },
        {
            "cell_type": "code",
            "execution_count": 31,
            "metadata": {},
            "outputs": [
                {
                    "data": {
                        "text/html": "<div>\n<style scoped>\n    .dataframe tbody tr th:only-of-type {\n        vertical-align: middle;\n    }\n\n    .dataframe tbody tr th {\n        vertical-align: top;\n    }\n\n    .dataframe thead th {\n        text-align: right;\n    }\n</style>\n<table border=\"1\" class=\"dataframe\">\n  <thead>\n    <tr style=\"text-align: right;\">\n      <th></th>\n      <th>Postalcode</th>\n      <th>Borough</th>\n      <th>Neighborhood</th>\n    </tr>\n  </thead>\n  <tbody>\n    <tr>\n      <th>0</th>\n      <td>M1A</td>\n      <td>Not assigned</td>\n      <td>Not assigned</td>\n    </tr>\n    <tr>\n      <th>1</th>\n      <td>M2A</td>\n      <td>Not assigned</td>\n      <td>Not assigned</td>\n    </tr>\n    <tr>\n      <th>2</th>\n      <td>M3A</td>\n      <td>North York</td>\n      <td>Parkwoods</td>\n    </tr>\n    <tr>\n      <th>3</th>\n      <td>M4A</td>\n      <td>North York</td>\n      <td>Victoria Village</td>\n    </tr>\n    <tr>\n      <th>4</th>\n      <td>M5A</td>\n      <td>Downtown Toronto</td>\n      <td>Harbourfront</td>\n    </tr>\n  </tbody>\n</table>\n</div>",
                        "text/plain": "  Postalcode           Borough      Neighborhood\n0        M1A      Not assigned      Not assigned\n1        M2A      Not assigned      Not assigned\n2        M3A        North York         Parkwoods\n3        M4A        North York  Victoria Village\n4        M5A  Downtown Toronto      Harbourfront"
                    },
                    "execution_count": 31,
                    "metadata": {},
                    "output_type": "execute_result"
                }
            ],
            "source": "df.head()"
        },
        {
            "cell_type": "markdown",
            "metadata": {},
            "source": "## Cleaning of data"
        },
        {
            "cell_type": "markdown",
            "metadata": {},
            "source": "Remove cells with a borough that is Not assigned"
        },
        {
            "cell_type": "code",
            "execution_count": 32,
            "metadata": {},
            "outputs": [],
            "source": "df=df[df['Borough']!='Not assigned']"
        },
        {
            "cell_type": "code",
            "execution_count": 33,
            "metadata": {},
            "outputs": [
                {
                    "data": {
                        "text/html": "<div>\n<style scoped>\n    .dataframe tbody tr th:only-of-type {\n        vertical-align: middle;\n    }\n\n    .dataframe tbody tr th {\n        vertical-align: top;\n    }\n\n    .dataframe thead th {\n        text-align: right;\n    }\n</style>\n<table border=\"1\" class=\"dataframe\">\n  <thead>\n    <tr style=\"text-align: right;\">\n      <th></th>\n      <th>Postalcode</th>\n      <th>Borough</th>\n      <th>Neighborhood</th>\n    </tr>\n  </thead>\n  <tbody>\n    <tr>\n      <th>2</th>\n      <td>M3A</td>\n      <td>North York</td>\n      <td>Parkwoods</td>\n    </tr>\n    <tr>\n      <th>3</th>\n      <td>M4A</td>\n      <td>North York</td>\n      <td>Victoria Village</td>\n    </tr>\n    <tr>\n      <th>4</th>\n      <td>M5A</td>\n      <td>Downtown Toronto</td>\n      <td>Harbourfront</td>\n    </tr>\n    <tr>\n      <th>5</th>\n      <td>M6A</td>\n      <td>North York</td>\n      <td>Lawrence Heights</td>\n    </tr>\n    <tr>\n      <th>6</th>\n      <td>M6A</td>\n      <td>North York</td>\n      <td>Lawrence Manor</td>\n    </tr>\n  </tbody>\n</table>\n</div>",
                        "text/plain": "  Postalcode           Borough      Neighborhood\n2        M3A        North York         Parkwoods\n3        M4A        North York  Victoria Village\n4        M5A  Downtown Toronto      Harbourfront\n5        M6A        North York  Lawrence Heights\n6        M6A        North York    Lawrence Manor"
                    },
                    "execution_count": 33,
                    "metadata": {},
                    "output_type": "execute_result"
                }
            ],
            "source": "df[df['Neighborhood']=='Not assigned']=df['Borough']\ndf.head()"
        },
        {
            "cell_type": "code",
            "execution_count": 34,
            "metadata": {},
            "outputs": [],
            "source": "temp_df=df.groupby('Postalcode')['Neighborhood'].apply(lambda x: \"%s\" % ', '.join(x))\ntemp_df=temp_df.reset_index(drop=False)\ntemp_df.rename(columns={'Neighborhood':'Neighborhood_joined'},inplace=True)"
        },
        {
            "cell_type": "code",
            "execution_count": 35,
            "metadata": {},
            "outputs": [],
            "source": "df_merge = pd.merge(df, temp_df, on='Postalcode')"
        },
        {
            "cell_type": "code",
            "execution_count": 36,
            "metadata": {},
            "outputs": [],
            "source": "df_merge.drop(['Neighborhood'],axis=1,inplace=True)"
        },
        {
            "cell_type": "code",
            "execution_count": 37,
            "metadata": {},
            "outputs": [],
            "source": "df_merge.drop_duplicates(inplace=True)"
        },
        {
            "cell_type": "code",
            "execution_count": 38,
            "metadata": {},
            "outputs": [],
            "source": "df_merge.rename(columns={'Neighborhood_joined':'Neighborhood'},inplace=True)"
        },
        {
            "cell_type": "code",
            "execution_count": 39,
            "metadata": {},
            "outputs": [
                {
                    "data": {
                        "text/html": "<div>\n<style scoped>\n    .dataframe tbody tr th:only-of-type {\n        vertical-align: middle;\n    }\n\n    .dataframe tbody tr th {\n        vertical-align: top;\n    }\n\n    .dataframe thead th {\n        text-align: right;\n    }\n</style>\n<table border=\"1\" class=\"dataframe\">\n  <thead>\n    <tr style=\"text-align: right;\">\n      <th></th>\n      <th>Postalcode</th>\n      <th>Borough</th>\n      <th>Neighborhood</th>\n    </tr>\n  </thead>\n  <tbody>\n    <tr>\n      <th>0</th>\n      <td>M3A</td>\n      <td>North York</td>\n      <td>Parkwoods</td>\n    </tr>\n    <tr>\n      <th>1</th>\n      <td>M4A</td>\n      <td>North York</td>\n      <td>Victoria Village</td>\n    </tr>\n    <tr>\n      <th>2</th>\n      <td>M5A</td>\n      <td>Downtown Toronto</td>\n      <td>Harbourfront</td>\n    </tr>\n    <tr>\n      <th>3</th>\n      <td>M6A</td>\n      <td>North York</td>\n      <td>Lawrence Heights, Lawrence Manor</td>\n    </tr>\n    <tr>\n      <th>5</th>\n      <td>M7A</td>\n      <td>Downtown Toronto</td>\n      <td>Queen's Park</td>\n    </tr>\n  </tbody>\n</table>\n</div>",
                        "text/plain": "  Postalcode           Borough                      Neighborhood\n0        M3A        North York                         Parkwoods\n1        M4A        North York                  Victoria Village\n2        M5A  Downtown Toronto                      Harbourfront\n3        M6A        North York  Lawrence Heights, Lawrence Manor\n5        M7A  Downtown Toronto                      Queen's Park"
                    },
                    "execution_count": 39,
                    "metadata": {},
                    "output_type": "execute_result"
                }
            ],
            "source": "df_merge.head()"
        },
        {
            "cell_type": "code",
            "execution_count": 40,
            "metadata": {},
            "outputs": [
                {
                    "data": {
                        "text/plain": "(103, 3)"
                    },
                    "execution_count": 40,
                    "metadata": {},
                    "output_type": "execute_result"
                }
            ],
            "source": "df_merge.shape"
        },
        {
            "cell_type": "code",
            "execution_count": null,
            "metadata": {},
            "outputs": [],
            "source": ""
        }
    ],
    "metadata": {
        "kernelspec": {
            "display_name": "Python 3.6",
            "language": "python",
            "name": "python3"
        },
        "language_info": {
            "codemirror_mode": {
                "name": "ipython",
                "version": 3
            },
            "file_extension": ".py",
            "mimetype": "text/x-python",
            "name": "python",
            "nbconvert_exporter": "python",
            "pygments_lexer": "ipython3",
            "version": "3.6.8"
        }
    },
    "nbformat": 4,
    "nbformat_minor": 1
}